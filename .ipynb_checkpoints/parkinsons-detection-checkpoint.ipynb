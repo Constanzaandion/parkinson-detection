{
 "cells": [
  {
   "cell_type": "code",
   "execution_count": 1,
   "metadata": {
    "collapsed": true
   },
   "outputs": [],
   "source": [
    "%matplotlib inline\n",
    "import numpy as np\n",
    "import pandas as pd\n",
    "import os\n",
    "import seaborn as sns\n",
    "from time import time\n",
    "from math import sqrt"
   ]
  },
  {
   "cell_type": "markdown",
   "metadata": {},
   "source": [
    "Timing decorator"
   ]
  },
  {
   "cell_type": "code",
   "execution_count": 2,
   "metadata": {},
   "outputs": [],
   "source": [
    "def timeit(fn):\n",
    "    def wrapper(*args, **kwargs):\n",
    "        start=time()\n",
    "        res=fn(*args, **kwargs)\n",
    "        print(fn.__name__, \"took\", time()-start, \"seconds.\")\n",
    "        return res\n",
    "    return wrapper"
   ]
  },
  {
   "cell_type": "code",
   "execution_count": 3,
   "metadata": {
    "collapsed": true
   },
   "outputs": [],
   "source": [
    "control_data_path=os.path.join('data', 'control')\n",
    "parkinson_data_path=os.path.join('data', 'parkinson')"
   ]
  },
  {
   "cell_type": "code",
   "execution_count": 4,
   "metadata": {},
   "outputs": [],
   "source": [
    "control_file_list=[os.path.join(control_data_path, x) for x in os.listdir(control_data_path)]\n",
    "parkinson_file_list=[os.path.join(parkinson_data_path, x) for x in os.listdir(parkinson_data_path)]"
   ]
  },
  {
   "cell_type": "markdown",
   "metadata": {},
   "source": [
    "### Features\n",
    "1. No of strokes\n",
    "2. Stroke speed\n",
    "3. Velocity\n",
    "4. Acceleration\n",
    "5. Jerk\n",
    "6. Horizontal velocity/acceleration/jerk\n",
    "7. Vertical velocity/acceleration/jerk\n",
    "8. Number of changes in velocity direction\n",
    "9. Number of changes in acceleration direction\n",
    "10. Relative NCV\n",
    "11. Relative NCA\n",
    "12. in-air time\n",
    "13. on-surface time\n",
    "14. normalized in-air time\n",
    "15. normalized on-surface time\n",
    "16. in-air/on-surface ratio"
   ]
  },
  {
   "cell_type": "code",
   "execution_count": 5,
   "metadata": {
    "collapsed": true
   },
   "outputs": [],
   "source": [
    "header_row=[\"X\", \"Y\", \"Z\", \"Pressure\" , \"GripAngle\" , \"Timestamp\" , \"Test_ID\"]"
   ]
  },
  {
   "cell_type": "code",
   "execution_count": 82,
   "metadata": {},
   "outputs": [],
   "source": [
    "def plot(f):\n",
    "    global header_row\n",
    "    df=pd.read_csv(f, sep=';', header=None, names=header_row)\n",
    "    df=df[df[\"Test_ID\"]==0]    # Use only static test\n",
    "    initial_timestamp=df['Timestamp'][0]\n",
    "    df['Timestamp']=df['Timestamp']- initial_timestamp\n",
    "    sns.regplot(data=df, y='Pressure', x='Timestamp', fit_reg=False, scatter_kws={\"s\": 0.5})"
   ]
  },
  {
   "cell_type": "code",
   "execution_count": 83,
   "metadata": {
    "collapsed": true
   },
   "outputs": [],
   "source": [
    "#@timeit\n",
    "def get_no_strokes(df):\n",
    "    pressure_data=df['Pressure'].as_matrix()\n",
    "    on_surface = (pressure_data>600).astype(int)\n",
    "    return ((np.roll(on_surface, 1) - on_surface) != 0).astype(int).sum()"
   ]
  },
  {
   "cell_type": "code",
   "execution_count": 84,
   "metadata": {
    "collapsed": true
   },
   "outputs": [],
   "source": [
    "#@timeit\n",
    "def get_speed(df):\n",
    "    total_dist=0\n",
    "    duration=df['Timestamp'].as_matrix()[-1]\n",
    "    coords=df[['X', 'Y', 'Z']].as_matrix()\n",
    "    for i in range(10, df.shape[0]):\n",
    "        temp=np.linalg.norm(coords[i, :]-coords[i-10, :])\n",
    "        total_dist+=temp\n",
    "    speed=total_dist/duration\n",
    "    return speed"
   ]
  },
  {
   "cell_type": "code",
   "execution_count": 85,
   "metadata": {
    "collapsed": true
   },
   "outputs": [],
   "source": [
    "#@timeit\n",
    "def get_in_air_time(data):\n",
    "    data=data['Pressure'].as_matrix()\n",
    "    return (data<600).astype(int).sum()"
   ]
  },
  {
   "cell_type": "code",
   "execution_count": 86,
   "metadata": {
    "collapsed": true
   },
   "outputs": [],
   "source": [
    "#@timeit\n",
    "def get_on_surface_time(data):\n",
    "    data=data['Pressure'].as_matrix()\n",
    "    return (data>600).astype(int).sum()"
   ]
  },
  {
   "cell_type": "code",
   "execution_count": 87,
   "metadata": {
    "collapsed": true
   },
   "outputs": [],
   "source": [
    "#@timeit\n",
    "def find_velocity(f):\n",
    "    '''\n",
    "    change in direction and its position\n",
    "    \n",
    "    '''\n",
    "    #data_pat=pd.read_csv(f, sep=';', header=None, names=header_row)\n",
    "    #data_pat=data_pat[data_pat[\"Test_ID\"]==0]    # Use only static test\n",
    "    #initial_timestamp=data_pat['Timestamp'][0]\n",
    "    #data_pat['Timestamp']=data_pat['Timestamp']- initial_timestamp\n",
    "    data_pat=f\n",
    "    Vel = []\n",
    "    horz_Vel = []\n",
    "    vert_Vel = []\n",
    "    magnitude = []\n",
    "    timestamp_diff =  []\n",
    "    #print ('No of Cordinates:',len(data_pat))\n",
    "    t = 0\n",
    "    for i in range(len(data_pat)-2):\n",
    "        if t+10 <= len(data_pat)-1:\n",
    "            Vel.append(((data_pat['X'][t+10] - data_pat['X'][t])/(data_pat['Timestamp'][t+10]-data_pat['Timestamp'][t]) , (data_pat['Y'][t+10]-data_pat['Y'][t])/(data_pat['Timestamp'][t+10]-data_pat['Timestamp'][t])))\n",
    "            horz_Vel.append((data_pat['X'][t+10] - data_pat['X'][t])/(data_pat['Timestamp'][t+10]-data_pat['Timestamp'][t]))\n",
    "            vert_Vel.append((data_pat['Y'][t+10] - data_pat['Y'][t])/(data_pat['Timestamp'][t+10]-data_pat['Timestamp'][t]))\n",
    "            magnitude.append(sqrt(((data_pat['X'][t+10]-data_pat['X'][t])/(data_pat['Timestamp'][t+10]-data_pat['Timestamp'][t]))**2 + (((data_pat['Y'][t+10]-data_pat['Y'][t])/(data_pat['Timestamp'][t+10]-data_pat['Timestamp'][t]))**2)))\n",
    "            timestamp_diff.append(data_pat['Timestamp'][t+10]-data_pat['Timestamp'][t])\n",
    "            t = t+10\n",
    "        else:\n",
    "            break \n",
    "    return Vel,magnitude,timestamp_diff,horz_Vel,vert_Vel"
   ]
  },
  {
   "cell_type": "code",
   "execution_count": 88,
   "metadata": {
    "collapsed": true
   },
   "outputs": [],
   "source": [
    "def find_acceleration(f):\n",
    "    '''\n",
    "    change in direction and its velocity\n",
    "   \n",
    "    '''\n",
    "    Vel,magnitude,timestamp_diff,horz_Vel,vert_Vel = find_velocity(f)\n",
    "    #data_pat=pd.read_csv(f, sep=';', header=None, names=header_row)\n",
    "    #data_pat=data_pat[data_pat[\"Test_ID\"]==0]    # Use only static test\n",
    "    #initial_timestamp=data_pat['Timestamp'][0]\n",
    "    #data_pat['Timestamp']=data_pat['Timestamp']- initial_timestamp\n",
    "    accl = []\n",
    "    horz_Accl =  []\n",
    "    vert_Accl = []\n",
    "    magnitude = []\n",
    "    print ('No of Cordinates:',len(Vel))\n",
    "    for i in range(len(Vel)-2):\n",
    "        accl.append(((Vel[i+1][0]-Vel[i][0])/timestamp_diff[i] , (Vel[i+1][1]-Vel[i][1])/timestamp_diff[i]))\n",
    "        horz_Accl.append((horz_Vel[i+1]-horz_Vel[i])/timestamp_diff[i])\n",
    "        vert_Accl.append((vert_Vel[i+1]-vert_Vel[i])/timestamp_diff[i])\n",
    "        magnitude.append(sqrt(((Vel[i+1][0]-Vel[i][0])/timestamp_diff[i])**2 + ((Vel[i+1][1]-Vel[i][1])/timestamp_diff[i])**2))\n",
    "        \n",
    "    return accl,magnitude,horz_Accl,vert_Accl,timestamp_diff"
   ]
  },
  {
   "cell_type": "code",
   "execution_count": 89,
   "metadata": {
    "collapsed": true
   },
   "outputs": [],
   "source": [
    "def find_jerk(f):\n",
    "    \n",
    "    accl,magnitude,horz_Accl,vert_Accl,timestamp_diff = find_acceleration(f)\n",
    "    jerk = []\n",
    "    hrz_jerk = []\n",
    "    vert_jerk = []\n",
    "    magnitude = []\n",
    "    print ('No of cordinates', len(accl))\n",
    "    \n",
    "    for i in range(len(accl)-2):\n",
    "        jerk.append(((accl[i+1][0]-accl[i][0])/timestamp_diff[i] , (accl[i+1][1]-accl[i][1])/timestamp_diff[i]))\n",
    "        hrz_jerk.append((horz_Accl[i+1]-horz_Accl[i])/timestamp_diff[i])\n",
    "        vert_jerk.append((vert_Accl[i+1]-vert_Accl[i])/timestamp_diff[i])\n",
    "        magnitude.append(sqrt(((accl[i+1][0]-accl[i][0])/timestamp_diff[i])**2 + ((accl[i+1][1]-accl[i][1])/timestamp_diff[i])**2))\n",
    "        \n",
    "    return jerk,magnitude,hrz_jerk,vert_jerk,timestamp_diff"
   ]
  },
  {
   "cell_type": "code",
   "execution_count": 90,
   "metadata": {
    "collapsed": true
   },
   "outputs": [],
   "source": [
    "def NCV_per_halfcircle(f):\n",
    "    data_pat=pd.read_csv(f, sep=';', header=None, names=header_row)\n",
    "    data_pat=data_pat[data_pat[\"Test_ID\"]==0]    # Use only static test\n",
    "    initial_timestamp=data_pat['Timestamp'][0]\n",
    "    data_pat['Timestamp']=data_pat['Timestamp']- initial_timestamp\n",
    "    Vel = []\n",
    "    ncv = []\n",
    "    temp_ncv = 0\n",
    "    basex = data_pat['X'][0]\n",
    "    for i in range(len(data_pat)-2):\n",
    "        if data_pat['X'][i] == basex:\n",
    "            ncv.append(temp_ncv)\n",
    "            print ('tempNCV::',temp_ncv)\n",
    "            temp_ncv = 0\n",
    "            #print (i)\n",
    "            continue\n",
    "            \n",
    "        Vel.append(((data_pat['X'][i+1] - data_pat['X'][i])/(data_pat['Timestamp'][i+1]-data_pat['Timestamp'][i]) , (data_pat['Y'][i+1]-data_pat['Y'][i])/(data_pat['Timestamp'][i+1]-data_pat['Timestamp'][i])))\n",
    "        if Vel[len(Vel)-1] != (0,0):\n",
    "            temp_ncv+=1\n",
    "    ncv.append(temp_ncv)\n",
    "    #ncv = list(filter((2).__ne__, ncv))\n",
    "    return ncv"
   ]
  },
  {
   "cell_type": "code",
   "execution_count": 91,
   "metadata": {
    "collapsed": true
   },
   "outputs": [],
   "source": [
    "def NCA_per_halfcircle(f):\n",
    "    data_pat=pd.read_csv(f, sep=';', header=None, names=header_row)\n",
    "    data_pat=data_pat[data_pat[\"Test_ID\"]==0]    # Use only static test\n",
    "    initial_timestamp=data_pat['Timestamp'][0]\n",
    "    data_pat['Timestamp']=data_pat['Timestamp']- initial_timestamp\n",
    "    Vel,magnitude,timestamp_diff,horz_Vel,vert_Vel = find_velocity(f)\n",
    "    #data_pat=pd.read_csv(f, sep=';', header=None, names=header_row)\n",
    "    #data_pat=data_pat[data_pat[\"Test_ID\"]==0]    # Use only static test\n",
    "    #initial_timestamp=data_pat['Timestamp'][0]\n",
    "    #data_pat['Timestamp']=data_pat['Timestamp']- initial_timestamp\n",
    "    accl = []\n",
    "    nca = []\n",
    "    temp_nca = 0\n",
    "    basex = data_pat['X'][0]\n",
    "    for i in range(len(Vel)-2):\n",
    "        if data_pat['X'][i] == basex:\n",
    "            nca.append(temp_nca)\n",
    "            print ('tempNCa::',temp_nca)\n",
    "            temp_nca = 0\n",
    "            #print (i)\n",
    "            continue\n",
    "            \n",
    "        accl.append(((Vel[i+1][0]-Vel[i][0])/timestamp_diff[i] , (Vel[i+1][1]-Vel[i][1])/timestamp_diff[i]))\n",
    "        if accl[len(accl)-1] != (0,0):\n",
    "            temp_nca+=1\n",
    "    nca.append(temp_nca)\n",
    "    nca = list(filter((2).__ne__, nca))\n",
    "    return nca"
   ]
  },
  {
   "cell_type": "code",
   "execution_count": 92,
   "metadata": {},
   "outputs": [],
   "source": [
    "#@timeit\n",
    "def get_features(f, parkinson_target):\n",
    "    global header_row\n",
    "    df=pd.read_csv(f, sep=';', header=None, names=header_row)\n",
    "    \n",
    "    df_static=df[df[\"Test_ID\"]==0]    # static test\n",
    "    df_dynamic=df[df[\"Test_ID\"]==1]    # dynamic test\n",
    "    df_stcp=df[df[\"Test_ID\"]==2]    # STCP\n",
    "    df_static_dynamic=pd.concat([df_static, df_dynamic])\n",
    "    \n",
    "    initial_timestamp=df['Timestamp'][0]\n",
    "    df['Timestamp']=df['Timestamp']- initial_timestamp # offset timestamps\n",
    "    \n",
    "    duration_static = df_static['Timestamp'].as_matrix()[-1] if df_static.shape[0] else 1\n",
    "    duration_dynamic = df_dynamic['Timestamp'].as_matrix()[-1] if df_dynamic.shape[0] else 1\n",
    "    duration_STCP = df_stcp['Timestamp'].as_matrix()[-1] if df_stcp.shape[0] else 1\n",
    "\n",
    "    \n",
    "    data_point=[]\n",
    "    data_point.append(get_no_strokes(df_static) if df_static.shape[0] else 0) # no. of strokes for static test\n",
    "    data_point.append(get_no_strokes(df_dynamic) if df_dynamic.shape[0] else 0) # no. of strokes for dynamic test\n",
    "    data_point.append(get_speed(df_static) if df_static.shape[0] else 0) # speed for static test\n",
    "    data_point.append(get_speed(df_dynamic) if df_dynamic.shape[0] else 0) # speed for dynamic test\n",
    "    \n",
    "    #data_point.append(find_velocity(df_static))    # velocity for static test\n",
    "    \n",
    "    #if df_stcp.shape[0]:\n",
    "    #    data_point.append(get_in_air_time(df_stcp)) # in air time for STCP\n",
    "    #else:\n",
    "    #    data_point.append(0)\n",
    "    \n",
    "    data_point.append(get_in_air_time(df_stcp) if df_stcp.shape[0] else 0) # in air time for STCP\n",
    "    data_point.append(get_on_surface_time(df_static) if df_static.shape[0] else 0) # on surface time for static test\n",
    "    data_point.append(get_on_surface_time(df_dynamic) if df_dynamic.shape[0] else 0) # on surface time for dynamic test\n",
    "    \n",
    "    data_point.append(parkinson_target)    # traget. 1 for parkinson. 0 for control.\n",
    "    \n",
    "    return data_point"
   ]
  },
  {
   "cell_type": "code",
   "execution_count": 93,
   "metadata": {},
   "outputs": [],
   "source": [
    "temp_feat=get_features(parkinson_file_list[35], 1)"
   ]
  },
  {
   "cell_type": "code",
   "execution_count": 94,
   "metadata": {},
   "outputs": [
    {
     "name": "stdout",
     "output_type": "stream",
     "text": [
      "[30, 72, 1.3588757917667431e-05, 2.6236510831179708e-05, 850, 524, 1230, 1]\n"
     ]
    }
   ],
   "source": [
    "print(temp_feat)"
   ]
  },
  {
   "cell_type": "code",
   "execution_count": null,
   "metadata": {
    "collapsed": true
   },
   "outputs": [],
   "source": []
  },
  {
   "cell_type": "markdown",
   "metadata": {},
   "source": [
    "# make dataframe"
   ]
  },
  {
   "cell_type": "code",
   "execution_count": 95,
   "metadata": {},
   "outputs": [],
   "source": [
    "raw=[]\n",
    "for x in parkinson_file_list:\n",
    "    raw.append(get_features(x, 1))\n",
    "for x in control_file_list:\n",
    "    raw.append(get_features(x, 0))"
   ]
  },
  {
   "cell_type": "code",
   "execution_count": 96,
   "metadata": {
    "scrolled": true
   },
   "outputs": [
    {
     "data": {
      "text/plain": [
       "[[12, 2, 0.00029287896120945973, 0.00043112156957482748, 0, 3678, 4852, 1],\n",
       " [4, 6, 0.00028567919982331669, 0.00028149148831292762, 0, 1688, 1587, 1],\n",
       " [4, 4, 0.00027767963860453039, 0.00027748934725828101, 0, 2246, 1332, 1],\n",
       " [4, 4, 0.00028612391444315629, 0.00027514904672622215, 0, 1775, 1703, 1],\n",
       " [2, 2, 0.00027925960823425513, 0.00026968611566333323, 0, 4764, 3335, 1],\n",
       " [2, 2, 0.00025052970557821308, 0.00023765967715676763, 0, 1299, 885, 1],\n",
       " [4, 2, 0.005701276964803258, 0.0050631092444170661, 0, 2192, 977, 1],\n",
       " [2, 2, 0.0044953967123545872, 0.0041375625416979001, 0, 1170, 1527, 1],\n",
       " [4, 2, 0.0036963832778493778, 0.0034395099341937236, 0, 4103, 3017, 1],\n",
       " [2, 2, 0.0027556483081403052, 0.0036450477063014984, 0, 1023, 1159, 1],\n",
       " [4, 2, 0.0023634083191301854, 0.0021805885235647135, 0, 1338, 859, 1],\n",
       " [4, 2, 0.0021487226439562187, 0.0020987159916655129, 0, 1828, 148, 1],\n",
       " [2, 4, 0.0020004283637869917, 0.001918349580459329, 0, 955, 800, 1],\n",
       " [0, 0, 0, 0, 1763, 0, 0, 1],\n",
       " [6, 0, 1.7702921187158598e-05, 0, 447, 4214, 0, 1],\n",
       " [6, 0, 2.1387370556324381e-05, 0, 212, 3341, 0, 1],\n",
       " [0, 0, 9.9976214324471551e-06, 8.545014009114722e-06, 2403, 0, 0, 1],\n",
       " [20, 0, 1.6167222309730286e-05, 0, 1286, 678, 0, 1],\n",
       " [8, 0, 1.8025390651090077e-05, 0, 731, 4625, 0, 1],\n",
       " [2, 2, 1.7594256308574907e-05, 1.6359642414168689e-05, 172, 1259, 767, 1],\n",
       " [0, 0, 1.6367354478914982e-05, 1.569592859692566e-05, 1854, 0, 0, 1],\n",
       " [30, 0, 2.0190726747623904e-05, 1.569592859692566e-05, 3417, 10478, 0, 1],\n",
       " [0, 0, 1.1250535267917801e-05, 1.1245574063314505e-05, 1760, 0, 0, 1],\n",
       " [2, 2, 1.1134739440285992e-05, 9.7359874682627737e-06, 272, 1174, 913, 1],\n",
       " [2, 2, 1.0506912606444405e-05, 2.4014262443309771e-05, 418, 932, 608, 1],\n",
       " [16, 2, 1.051258980433324e-05, 1.4846304504232281e-05, 2181, 1117, 1059, 1],\n",
       " [2, 12, 1.0750174095961087e-05, 1.0501873585809024e-05, 213, 1210, 2108, 1],\n",
       " [8, 4, 1.0725027502138038e-05, 1.0288651934911236e-05, 1521, 947, 1134, 1],\n",
       " [8, 2, 1.1750701073258852e-05, 9.6383589513245387e-06, 618, 473, 438, 1],\n",
       " [34, 32, 1.3914761862283983e-05, 1.9492064241516904e-05, 446, 1600, 2143, 1],\n",
       " [44, 0, 8.8335672367538887e-06, 9.3981367920178922e-06, 2267, 513, 0, 1],\n",
       " [0, 0, 7.9139048080546813e-06, 1.1846457563410816e-05, 2477, 0, 0, 1],\n",
       " [8, 38, 7.6755851876385438e-06, 9.1237378093419394e-06, 555, 33, 1016, 1],\n",
       " [2, 2, 7.7446057487622708e-06, 7.3927849505991594e-06, 627, 510, 552, 1],\n",
       " [2, 2, 1.3939909662995373e-05, 1.3130352951760107e-05, 1557, 1192, 1718, 1],\n",
       " [30, 72, 1.3588757917667431e-05, 2.6236510831179708e-05, 850, 524, 1230, 1],\n",
       " [6, 2, 2.6864997312445978e-05, 2.6392276037101729e-05, 321, 1620, 1408, 1],\n",
       " [2, 2, 0.010988218409777543, 0.0097576502446878512, 176, 952, 689, 1],\n",
       " [52, 10, 0.0068738743424665068, 0.0066690531184285702, 0, 2107, 2506, 1],\n",
       " [22, 12, 0.0016362025458440065, 0.0016201857151076661, 206, 1369, 2807, 1],\n",
       " [2, 6, 0.0017932046020185241, 0.0014342180756461741, 705, 4025, 2487, 1],\n",
       " [4, 6, 0.010126987814961172, 0.0091841253534446325, 1221, 2712, 2337, 1],\n",
       " [2, 2, 0.0066888041687857515, 0.0066304453570237504, 1285, 6551, 7547, 1],\n",
       " [12, 6, 0.0029815733358340753, 0.0037963158921683286, 1285, 2797, 8027, 1],\n",
       " [38, 0, 0.0051659365689037179, 0.0051949631953846498, 1733, 26, 0, 1],\n",
       " [54, 34, 0.003031528570142624, 0.0026557730437452159, 1497, 1881, 1592, 1],\n",
       " [24, 8, 0.0021944704829252142, 0.0023764599629846209, 2104, 1340, 839, 1],\n",
       " [2, 2, 0.0011293877479004748, 0.001085469656434495, 154, 813, 755, 1],\n",
       " [22, 26, 0.0017211539728099507, 0.0013624824881959506, 391, 1750, 1304, 1],\n",
       " [0, 0, 0.0025895326902722398, 0.0026261321182143192, 1277, 0, 0, 1],\n",
       " [2, 8, 0.0022502977316204999, 0.0021588865696481772, 1652, 2070, 5146, 1],\n",
       " [2, 2, 0.0073850850202283906, 0.0083117499993797684, 1500, 3190, 2253, 1],\n",
       " [0, 0, 0.0046650481802655687, 0.004488122447553795, 1574, 0, 0, 1],\n",
       " [2, 2, 0.0056672943648391708, 0.0056966057565807377, 0, 695, 477, 1],\n",
       " [2, 2, 0.0044469035147546567, 0.0045738921572133504, 195, 3579, 2961, 1],\n",
       " [2, 0, 0.0036661814543007937, 0.0028270241136300936, 1520, 1872, 0, 1],\n",
       " [0, 6, 0.0023696016855341666, 0.0022652701167898965, 224, 0, 42, 1],\n",
       " [0, 10, 0.0020394178243080771, 0.0019348519144513695, 355, 0, 2249, 1],\n",
       " [68, 8, 0.011266592656614992, 0.011655451831801091, 1629, 1811, 4348, 1],\n",
       " [286, 82, 0.003103799989986378, 0.0028804686781237591, 4939, 6820, 6661, 1],\n",
       " [2, 2, 0.0078729610515461141, 0.0068568434236847909, 1474, 2214, 3650, 1],\n",
       " [10, 34, 0.0053352729622204043, 0.0053611113672650604, 1650, 151, 1094, 1]]"
      ]
     },
     "execution_count": 96,
     "metadata": {},
     "output_type": "execute_result"
    }
   ],
   "source": [
    "raw"
   ]
  },
  {
   "cell_type": "code",
   "execution_count": null,
   "metadata": {
    "collapsed": true
   },
   "outputs": [],
   "source": [
    "data=pd.df()"
   ]
  },
  {
   "cell_type": "code",
   "execution_count": null,
   "metadata": {
    "collapsed": true
   },
   "outputs": [],
   "source": []
  },
  {
   "cell_type": "code",
   "execution_count": 269,
   "metadata": {
    "scrolled": false
   },
   "outputs": [
    {
     "data": {
      "image/png": "[encoded data removed]",
      "text/plain": [
       "<matplotlib.figure.Figure at 0x250b1235c18>"
      ]
     },
     "metadata": {},
     "output_type": "display_data"
    }
   ],
   "source": [
    "plot(parkinson_file_list[35])"
   ]
  },
  {
   "cell_type": "code",
   "execution_count": 211,
   "metadata": {
    "scrolled": false
   },
   "outputs": [
    {
     "data": {
      "image/png": "[encoded data removed]",
      "text/plain": [
       "<matplotlib.figure.Figure at 0x250aebca4e0>"
      ]
     },
     "metadata": {},
     "output_type": "display_data"
    }
   ],
   "source": [
    "plot(control_file_list[1])"
   ]
  },
  {
   "cell_type": "code",
   "execution_count": null,
   "metadata": {
    "collapsed": true
   },
   "outputs": [],
   "source": []
  },
  {
   "cell_type": "code",
   "execution_count": null,
   "metadata": {
    "collapsed": true
   },
   "outputs": [],
   "source": []
  }
 ],
 "metadata": {
  "kernelspec": {
   "display_name": "Python 3",
   "language": "python",
   "name": "python3"
  }
 },
 "nbformat": 4,
 "nbformat_minor": 2
}
